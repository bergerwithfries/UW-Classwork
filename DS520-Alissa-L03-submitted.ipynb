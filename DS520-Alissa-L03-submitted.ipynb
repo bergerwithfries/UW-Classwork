{
 "cells": [
  {
   "cell_type": "markdown",
   "metadata": {
    "colab_type": "text",
    "id": "y9WQnD-f02Im"
   },
   "source": [
    "# Combinatorics and probability distributions"
   ]
  },
  {
   "attachments": {},
   "cell_type": "markdown",
   "metadata": {},
   "source": [
    "Combinatorics is an important area of mathematics. We apply combinatorics to compute the possible combinations or permutations of a combination of events. As such, combinatorics are also one of the most effective tools for being able to make probability calculations. We learn about some basic properties of discrete probabilities:\n",
    "\n",
    "- Understand the axiom's probability\n",
    "- Use set operations on probabilities\n",
    "- Compute probabilities for independent and mutually exclusive events\n",
    "- Apply conditional probabilities\n",
    "\n",
    "Let's begin with a combinatorics example: Say you want to compute the number of possible sandwiches we can order at a sandwich shop with a limited menu: 4 bread choices, 5 meat choices, 4 toppings.  How many unique sandwich combinations can we order by picking one item from each category?   \n",
    "\n",
    "$$4 * 5 * 4 = 80$$\n",
    "\n",
    "You can see that for this problem we just need to multiply the number of choices for each class. This is an example of the **multiplication principle** of combinatorics."
   ]
  },
  {
   "cell_type": "code",
   "execution_count": 3,
   "metadata": {},
   "outputs": [],
   "source": [
    "import numpy as np\n",
    "import itertools\n",
    "import pandas as pd\n",
    "\n",
    "from matplotlib import pyplot as plt\n",
    "import seaborn as sns\n",
    "\n",
    "sns.set(rc = {'figure.figsize': (10, 8)})\n",
    "sns.set_palette('muted')\n",
    "sns.set_style('ticks')\n",
    "%matplotlib inline"
   ]
  },
  {
   "cell_type": "code",
   "execution_count": 4,
   "metadata": {},
   "outputs": [],
   "source": [
    "breads = ['white', 'wheat', 'italian', 'sevengrain']\n",
    "meats = ['ham', 'turkey', 'chicken', 'pastrami', 'meatballs']\n",
    "toppings = ['mustard', 'mayo', 'salt_pepper', 'oil_vinegar']"
   ]
  },
  {
   "cell_type": "code",
   "execution_count": 5,
   "metadata": {},
   "outputs": [
    {
     "data": {
      "text/plain": [
       "80"
      ]
     },
     "execution_count": 5,
     "metadata": {},
     "output_type": "execute_result"
    }
   ],
   "source": [
    "sizes = list(map(len, [breads, meats, toppings]))\n",
    "np.prod(sizes) #product of the length of each list for the total combinations"
   ]
  },
  {
   "attachments": {},
   "cell_type": "markdown",
   "metadata": {},
   "source": [
    "For many of these combinatorics problems, we can use the `itertools` package to save time and simplify the code. For example, say we want the list of all 80 sandwich combinations."
   ]
  },
  {
   "cell_type": "code",
   "execution_count": 7,
   "metadata": {},
   "outputs": [
    {
     "data": {
      "text/plain": [
       "[('white', 'ham', 'mustard'),\n",
       " ('white', 'ham', 'mayo'),\n",
       " ('white', 'ham', 'salt_pepper'),\n",
       " ('white', 'ham', 'oil_vinegar'),\n",
       " ('white', 'turkey', 'mustard'),\n",
       " ('white', 'turkey', 'mayo'),\n",
       " ('white', 'turkey', 'salt_pepper'),\n",
       " ('white', 'turkey', 'oil_vinegar'),\n",
       " ('white', 'chicken', 'mustard'),\n",
       " ('white', 'chicken', 'mayo')]"
      ]
     },
     "execution_count": 7,
     "metadata": {},
     "output_type": "execute_result"
    }
   ],
   "source": [
    "list(itertools.product(breads, meats, toppings))[:10]"
   ]
  },
  {
   "cell_type": "markdown",
   "metadata": {},
   "source": [
    "If we need these combinations one at a time, there's no need to generate them all at once using `list` (as we did above). Instead we can call `next` to generate the next item until we are finished."
   ]
  },
  {
   "cell_type": "code",
   "execution_count": 9,
   "metadata": {},
   "outputs": [
    {
     "data": {
      "text/plain": [
       "('white', 'ham', 'mustard')"
      ]
     },
     "execution_count": 9,
     "metadata": {},
     "output_type": "execute_result"
    }
   ],
   "source": [
    "all_sandwiches = itertools.product(breads, meats, toppings)\n",
    "next(all_sandwiches)"
   ]
  },
  {
   "cell_type": "code",
   "execution_count": 10,
   "metadata": {},
   "outputs": [
    {
     "data": {
      "text/plain": [
       "('white', 'ham', 'mayo')"
      ]
     },
     "execution_count": 10,
     "metadata": {},
     "output_type": "execute_result"
    }
   ],
   "source": [
    "next(all_sandwiches)"
   ]
  },
  {
   "cell_type": "code",
   "execution_count": 11,
   "metadata": {},
   "outputs": [
    {
     "data": {
      "text/plain": [
       "('white', 'ham', 'salt_pepper')"
      ]
     },
     "execution_count": 11,
     "metadata": {},
     "output_type": "execute_result"
    }
   ],
   "source": [
    "next(all_sandwiches)"
   ]
  },
  {
   "cell_type": "markdown",
   "metadata": {},
   "source": [
    "### Exercise\n",
    "\n",
    "Loop over `all_sandwiches` and print all sandwiches that have mayo and do not have ham. There are different ways of doing it."
   ]
  },
  {
   "cell_type": "code",
   "execution_count": 13,
   "metadata": {},
   "outputs": [
    {
     "name": "stdout",
     "output_type": "stream",
     "text": [
      "('white', 'turkey', 'mayo')\n",
      "('white', 'chicken', 'mayo')\n",
      "('white', 'pastrami', 'mayo')\n",
      "('white', 'meatballs', 'mayo')\n",
      "('wheat', 'turkey', 'mayo')\n",
      "('wheat', 'chicken', 'mayo')\n",
      "('wheat', 'pastrami', 'mayo')\n",
      "('wheat', 'meatballs', 'mayo')\n",
      "('italian', 'turkey', 'mayo')\n",
      "('italian', 'chicken', 'mayo')\n",
      "('italian', 'pastrami', 'mayo')\n",
      "('italian', 'meatballs', 'mayo')\n",
      "('sevengrain', 'turkey', 'mayo')\n",
      "('sevengrain', 'chicken', 'mayo')\n",
      "('sevengrain', 'pastrami', 'mayo')\n",
      "('sevengrain', 'meatballs', 'mayo')\n"
     ]
    }
   ],
   "source": [
    "all_sandwiches = list(itertools.product(breads, meats, toppings))\n",
    "\n",
    "#.where((meats != ham) & (toppings==mayo))\n",
    "\"\"\"for (a, b, c) in zip(breads, meats, toppings):\n",
    "    if b != 'ham': \n",
    "        if c == 'mayo': \n",
    "            print(a, b, c)\"\"\"\n",
    "\"\"\"\n",
    "for each in all_sandwiches: \n",
    "    if 'ham' is not in all_sandwich & 'mayo' is in all_sandwich: \n",
    "        next(all_sandwiches)\n",
    "\"\"\"\n",
    "for each in all_sandwiches: \n",
    "    if (each[2] =='mayo') & (each[1] != 'ham'):\n",
    "        print(each)\n"
   ]
  },
  {
   "cell_type": "markdown",
   "metadata": {},
   "source": [
    "Run the next line and explain the result we get."
   ]
  },
  {
   "cell_type": "code",
   "execution_count": 15,
   "metadata": {},
   "outputs": [
    {
     "data": {
      "text/plain": [
       "[('white', 'ham', 'mustard'),\n",
       " ('white', 'ham', 'mayo'),\n",
       " ('white', 'ham', 'salt_pepper'),\n",
       " ('white', 'ham', 'oil_vinegar'),\n",
       " ('white', 'turkey', 'mustard'),\n",
       " ('white', 'turkey', 'mayo'),\n",
       " ('white', 'turkey', 'salt_pepper'),\n",
       " ('white', 'turkey', 'oil_vinegar'),\n",
       " ('white', 'chicken', 'mustard'),\n",
       " ('white', 'chicken', 'mayo'),\n",
       " ('white', 'chicken', 'salt_pepper'),\n",
       " ('white', 'chicken', 'oil_vinegar'),\n",
       " ('white', 'pastrami', 'mustard'),\n",
       " ('white', 'pastrami', 'mayo'),\n",
       " ('white', 'pastrami', 'salt_pepper'),\n",
       " ('white', 'pastrami', 'oil_vinegar'),\n",
       " ('white', 'meatballs', 'mustard'),\n",
       " ('white', 'meatballs', 'mayo'),\n",
       " ('white', 'meatballs', 'salt_pepper'),\n",
       " ('white', 'meatballs', 'oil_vinegar'),\n",
       " ('wheat', 'ham', 'mustard'),\n",
       " ('wheat', 'ham', 'mayo'),\n",
       " ('wheat', 'ham', 'salt_pepper'),\n",
       " ('wheat', 'ham', 'oil_vinegar'),\n",
       " ('wheat', 'turkey', 'mustard'),\n",
       " ('wheat', 'turkey', 'mayo'),\n",
       " ('wheat', 'turkey', 'salt_pepper'),\n",
       " ('wheat', 'turkey', 'oil_vinegar'),\n",
       " ('wheat', 'chicken', 'mustard'),\n",
       " ('wheat', 'chicken', 'mayo'),\n",
       " ('wheat', 'chicken', 'salt_pepper'),\n",
       " ('wheat', 'chicken', 'oil_vinegar'),\n",
       " ('wheat', 'pastrami', 'mustard'),\n",
       " ('wheat', 'pastrami', 'mayo'),\n",
       " ('wheat', 'pastrami', 'salt_pepper'),\n",
       " ('wheat', 'pastrami', 'oil_vinegar'),\n",
       " ('wheat', 'meatballs', 'mustard'),\n",
       " ('wheat', 'meatballs', 'mayo'),\n",
       " ('wheat', 'meatballs', 'salt_pepper'),\n",
       " ('wheat', 'meatballs', 'oil_vinegar'),\n",
       " ('italian', 'ham', 'mustard'),\n",
       " ('italian', 'ham', 'mayo'),\n",
       " ('italian', 'ham', 'salt_pepper'),\n",
       " ('italian', 'ham', 'oil_vinegar'),\n",
       " ('italian', 'turkey', 'mustard'),\n",
       " ('italian', 'turkey', 'mayo'),\n",
       " ('italian', 'turkey', 'salt_pepper'),\n",
       " ('italian', 'turkey', 'oil_vinegar'),\n",
       " ('italian', 'chicken', 'mustard'),\n",
       " ('italian', 'chicken', 'mayo'),\n",
       " ('italian', 'chicken', 'salt_pepper'),\n",
       " ('italian', 'chicken', 'oil_vinegar'),\n",
       " ('italian', 'pastrami', 'mustard'),\n",
       " ('italian', 'pastrami', 'mayo'),\n",
       " ('italian', 'pastrami', 'salt_pepper'),\n",
       " ('italian', 'pastrami', 'oil_vinegar'),\n",
       " ('italian', 'meatballs', 'mustard'),\n",
       " ('italian', 'meatballs', 'mayo'),\n",
       " ('italian', 'meatballs', 'salt_pepper'),\n",
       " ('italian', 'meatballs', 'oil_vinegar'),\n",
       " ('sevengrain', 'ham', 'mustard'),\n",
       " ('sevengrain', 'ham', 'mayo'),\n",
       " ('sevengrain', 'ham', 'salt_pepper'),\n",
       " ('sevengrain', 'ham', 'oil_vinegar'),\n",
       " ('sevengrain', 'turkey', 'mustard'),\n",
       " ('sevengrain', 'turkey', 'mayo'),\n",
       " ('sevengrain', 'turkey', 'salt_pepper'),\n",
       " ('sevengrain', 'turkey', 'oil_vinegar'),\n",
       " ('sevengrain', 'chicken', 'mustard'),\n",
       " ('sevengrain', 'chicken', 'mayo'),\n",
       " ('sevengrain', 'chicken', 'salt_pepper'),\n",
       " ('sevengrain', 'chicken', 'oil_vinegar'),\n",
       " ('sevengrain', 'pastrami', 'mustard'),\n",
       " ('sevengrain', 'pastrami', 'mayo'),\n",
       " ('sevengrain', 'pastrami', 'salt_pepper'),\n",
       " ('sevengrain', 'pastrami', 'oil_vinegar'),\n",
       " ('sevengrain', 'meatballs', 'mustard'),\n",
       " ('sevengrain', 'meatballs', 'mayo'),\n",
       " ('sevengrain', 'meatballs', 'salt_pepper'),\n",
       " ('sevengrain', 'meatballs', 'oil_vinegar')]"
      ]
     },
     "execution_count": 15,
     "metadata": {},
     "output_type": "execute_result"
    }
   ],
   "source": [
    "list(all_sandwiches)"
   ]
  },
  {
   "cell_type": "markdown",
   "metadata": {},
   "source": [
    "Create a `DataFrame` called `sandwiches` from the list of all sandwich combinations and show the first 5 lines using `head`. Use `['breads', 'meats', 'toppings']` as column names."
   ]
  },
  {
   "cell_type": "code",
   "execution_count": 17,
   "metadata": {},
   "outputs": [
    {
     "data": {
      "text/html": [
       "<div>\n",
       "<style scoped>\n",
       "    .dataframe tbody tr th:only-of-type {\n",
       "        vertical-align: middle;\n",
       "    }\n",
       "\n",
       "    .dataframe tbody tr th {\n",
       "        vertical-align: top;\n",
       "    }\n",
       "\n",
       "    .dataframe thead th {\n",
       "        text-align: right;\n",
       "    }\n",
       "</style>\n",
       "<table border=\"1\" class=\"dataframe\">\n",
       "  <thead>\n",
       "    <tr style=\"text-align: right;\">\n",
       "      <th></th>\n",
       "      <th>breads</th>\n",
       "      <th>meats</th>\n",
       "      <th>toppings</th>\n",
       "    </tr>\n",
       "  </thead>\n",
       "  <tbody>\n",
       "    <tr>\n",
       "      <th>0</th>\n",
       "      <td>white</td>\n",
       "      <td>ham</td>\n",
       "      <td>mustard</td>\n",
       "    </tr>\n",
       "    <tr>\n",
       "      <th>1</th>\n",
       "      <td>white</td>\n",
       "      <td>ham</td>\n",
       "      <td>mayo</td>\n",
       "    </tr>\n",
       "    <tr>\n",
       "      <th>2</th>\n",
       "      <td>white</td>\n",
       "      <td>ham</td>\n",
       "      <td>salt_pepper</td>\n",
       "    </tr>\n",
       "    <tr>\n",
       "      <th>3</th>\n",
       "      <td>white</td>\n",
       "      <td>ham</td>\n",
       "      <td>oil_vinegar</td>\n",
       "    </tr>\n",
       "    <tr>\n",
       "      <th>4</th>\n",
       "      <td>white</td>\n",
       "      <td>turkey</td>\n",
       "      <td>mustard</td>\n",
       "    </tr>\n",
       "  </tbody>\n",
       "</table>\n",
       "</div>"
      ],
      "text/plain": [
       "  breads   meats     toppings\n",
       "0  white     ham      mustard\n",
       "1  white     ham         mayo\n",
       "2  white     ham  salt_pepper\n",
       "3  white     ham  oil_vinegar\n",
       "4  white  turkey      mustard"
      ]
     },
     "execution_count": 17,
     "metadata": {},
     "output_type": "execute_result"
    }
   ],
   "source": [
    "all_sandwiches = itertools.product(breads, meats, toppings) #temp loop, so once runs through, it's finished\n",
    "sandwiches = pd.DataFrame(data = all_sandwiches, columns=['breads', 'meats', 'toppings'])\n",
    "sandwiches.head()"
   ]
  },
  {
   "cell_type": "markdown",
   "metadata": {},
   "source": [
    "### End of exercise"
   ]
  },
  {
   "cell_type": "markdown",
   "metadata": {},
   "source": [
    "## Factorials, permutations and combinations\n",
    "\n",
    "Factorials are a way to compute the number of ways to order $N$ things. We use the term **Permutations** to describe the number of ways you can order some objects or events. This is where **factorials** arise:\n",
    "\n",
    "$$Number\\ of\\ ways\\ to\\ order\\ N\\ things = N!$$  \n",
    "\n",
    "Let's say you have 5 new books on probability you wish to put on a shelf (having read them cover-to-cover no doubt!). How many ways can you order them?  \n",
    "\n",
    "$$5 * 4 * 3 * 2 * 1 = 5! = 120$$"
   ]
  },
  {
   "cell_type": "code",
   "execution_count": 20,
   "metadata": {},
   "outputs": [
    {
     "data": {
      "text/plain": [
       "120"
      ]
     },
     "execution_count": 20,
     "metadata": {},
     "output_type": "execute_result"
    }
   ],
   "source": [
    "import math\n",
    "math.factorial(5)"
   ]
  },
  {
   "attachments": {},
   "cell_type": "markdown",
   "metadata": {},
   "source": [
    "This is another application of the multiplication principle. \n",
    "\n",
    "Easy enough, so far. But let's say we want to find the number of **permutations** of $k$ unique items chosen from $N$ total items. We can compute the number of possible permutations as:\n",
    "\n",
    "$$\\frac{N!}{(N - k)!}$$\n",
    "\n",
    "Say for example that I can order 4 beers out of a total of 10 beers. The order I drink my 4 beers in the sampler might matter because tastes affect each other. Maybe the tastes will be a bit different if I drink stout before I drink a red ale. Because order matters, we need the number of permutations of 4 beers out of a total of 10:\n",
    "\n",
    "$$\\frac{10!}{(10 - 4)!} = 10 * 9 * 8 * 7 = 5040$$\n",
    "\n",
    "Computing factorials can be tricky. A 64 bit unsigned integer can represent numbers as large as $2^{64} = 9.2E18$. However $21! = 5.1E19$. In practice, computation of factorials is done on ratios to make the problem tractable. For example, we just wrote our beer example in a tractable form:\n",
    "\n",
    "$$\\frac{10!}{6!} = \\frac{10!}{(10-4)!} = 10 * 9 * 8 * 7$$\n",
    "\n",
    "We never had to actually compute the largest number $10!$. In fact, we just multiplied 4 numbers. "
   ]
  },
  {
   "cell_type": "code",
   "execution_count": 22,
   "metadata": {},
   "outputs": [
    {
     "name": "stdout",
     "output_type": "stream",
     "text": [
      "Number of permutations: 5,040\n",
      "A few examples:\n"
     ]
    },
    {
     "data": {
      "text/plain": [
       "[(0, 1, 2, 3),\n",
       " (0, 1, 2, 4),\n",
       " (0, 1, 2, 5),\n",
       " (0, 1, 2, 6),\n",
       " (0, 1, 2, 7),\n",
       " (0, 1, 2, 8),\n",
       " (0, 1, 2, 9),\n",
       " (0, 1, 3, 2),\n",
       " (0, 1, 3, 4),\n",
       " (0, 1, 3, 5)]"
      ]
     },
     "execution_count": 22,
     "metadata": {},
     "output_type": "execute_result"
    }
   ],
   "source": [
    "p = list(itertools.permutations(range(10), 4))\n",
    "print(\"Number of permutations: {:,}\".format(len(p)))\n",
    "print(\"A few examples:\")\n",
    "p[:10]"
   ]
  },
  {
   "attachments": {},
   "cell_type": "markdown",
   "metadata": {},
   "source": [
    "What if order does not matter? I may just want to find all unique combinations of k items of N choices. For example, for the beer example when order does not matter, there are $10$ choices and I want to pick $4$ unique choices. In the language of combinatorics, we say that the above quantity is $10$ **choose** $4$, which can be written:\n",
    "\n",
    "$$\\frac{10!}{4!(10 - 4)!} = \\binom{10}{4}$$\n",
    "\n",
    "We say that $N$ choose $k$ is a **combinations** since order does not matter. More generally we compute combinations with the formula:\n",
    "\n",
    "$$\\frac{N!}{k!(N - k)!} = \\binom{N}{k}$$\n",
    "\n",
    "From these formulas you can see that combinations are less than permutations by a factor of $k!$."
   ]
  },
  {
   "cell_type": "code",
   "execution_count": 24,
   "metadata": {},
   "outputs": [
    {
     "name": "stdout",
     "output_type": "stream",
     "text": [
      "Number of combinations: 210\n",
      "A few examples:\n"
     ]
    },
    {
     "data": {
      "text/plain": [
       "[(0, 1, 2, 3),\n",
       " (0, 1, 2, 4),\n",
       " (0, 1, 2, 5),\n",
       " (0, 1, 2, 6),\n",
       " (0, 1, 2, 7),\n",
       " (0, 1, 2, 8),\n",
       " (0, 1, 2, 9),\n",
       " (0, 1, 3, 4),\n",
       " (0, 1, 3, 5),\n",
       " (0, 1, 3, 6)]"
      ]
     },
     "execution_count": 24,
     "metadata": {},
     "output_type": "execute_result"
    }
   ],
   "source": [
    "c = list(itertools.combinations(range(10), 4))\n",
    "print(\"Number of combinations: {:,}\".format(len(c)))\n",
    "print(\"A few examples:\")\n",
    "c[:10]"
   ]
  },
  {
   "cell_type": "markdown",
   "metadata": {},
   "source": [
    "$$\\binom{n}{0}, \\binom{n}{1}, \\cdots, \\binom{n}{n}$$"
   ]
  },
  {
   "attachments": {},
   "cell_type": "markdown",
   "metadata": {},
   "source": [
    "For our example, we can visualize how this process works with **Pascal's triangle**. You can see an example below. \n",
    "\n",
    "![Pascal's triangle](../images/pascal-triangle.gif)\n",
    "\n",
    "In this case we find $10$ choose $4$ by counting down 10 rows and over 4 elements. Voila! we have the value we expect! \n",
    "\n",
    "More generally, row $n$ in Pascal's triangle shows \n",
    "\n",
    "$$\\binom{n}{0}, \\binom{n}{1}, \\cdots, \\binom{n}{n}$$ \n",
    "\n",
    "which leads to the interesting identity:\n",
    "\n",
    "$$\\binom{n}{0} + \\binom{n}{1} + \\cdots + \\binom{n}{n} = 2^n$$\n",
    "\n",
    "Notice that Pascal's triangle is symmetric. This illustrates an important symmetry property of combinations. Notice that:\n",
    "\n",
    "$$\\binom{N}{k} = \\binom{N}{N-k}$$\n",
    "\n",
    "You can also see from the animation that\n",
    "\n",
    "$$\\binom{n}{k} = \\binom{n-1}{k} + \\binom{n-1}{k-1}$$\n",
    "\n",
    "which can also be shown using some simple algebra. The above result shows that we can compute the number of combinations by just computing Pascal's triangle, which means using only summations instead of multiplications!\n",
    "\n",
    "Another interesting side-note, left for you to prove, is the relationship between the above property and the identity $2^0 + 2^1 + \\cdots + 2^k = 2^{k+1} - 1$ (which can be proved using mathematical induction).\n",
    "\n",
    "The intuition behind the above equality is pretty simple. Let's say you have been so far serving a beer sampler of 4 beers out of a choice of 10, but you now offer a new choice of beer and want to allow people to order a sampler of 5 beers (so we went from $n = 10$ to $n = 11$ and from $k = 4$ to $k = 5$. How many combinations are there now?"
   ]
  },
  {
   "cell_type": "code",
   "execution_count": 27,
   "metadata": {},
   "outputs": [
    {
     "name": "stdout",
     "output_type": "stream",
     "text": [
      "Number of combinations: 462\n"
     ]
    }
   ],
   "source": [
    "c = list(itertools.combinations(range(10 + 1), 4 + 1))\n",
    "print(f\"Number of combinations: {len(c):,}\")"
   ]
  },
  {
   "attachments": {},
   "cell_type": "markdown",
   "metadata": {},
   "source": [
    "But another way to look at it is to ask how many combinations are there that involve the new beer and how many that don't. The number of combinations that involve the new beer is easy to get, it's the same as the number of ways we had to choose 4 beers out of 10, except we also add the new beer so we have 5 in total. The number of combinations that don't have the new beer is also easy: it's the number of combinations of 5 beers out of 10 beers. Hence we get:"
   ]
  },
  {
   "cell_type": "code",
   "execution_count": 29,
   "metadata": {},
   "outputs": [
    {
     "name": "stdout",
     "output_type": "stream",
     "text": [
      "Number of combinations: 462\n"
     ]
    }
   ],
   "source": [
    "c_with = list(itertools.combinations(range(10), 4 + 1))\n",
    "c_without = list(itertools.combinations(range(10), 4))\n",
    "print(f\"Number of combinations: {len(c_with) + len(c_without):,}\")"
   ]
  },
  {
   "cell_type": "markdown",
   "metadata": {},
   "source": [
    "Notice how we get the same answer either way."
   ]
  },
  {
   "cell_type": "markdown",
   "metadata": {},
   "source": [
    "**Fun note:** there are $52!$ ways to shuffle deck of cards, or combinations. It is likely that each shuffle is unique in the history of the world!"
   ]
  },
  {
   "cell_type": "markdown",
   "metadata": {},
   "source": [
    "### Exercise\n",
    "\n",
    "One interesting application of combinatorics are **permutation tests**, and the easiest way to explain them is through an example. Let's say that you are given measurements for two rather small samples, and you're wondering if  the difference of the averages between the two groups is significant or not."
   ]
  },
  {
   "cell_type": "code",
   "execution_count": 33,
   "metadata": {},
   "outputs": [
    {
     "name": "stdout",
     "output_type": "stream",
     "text": [
      "2.1999999999999993\n"
     ]
    }
   ],
   "source": [
    "group_1 = [22, 11, 17, 18, 21]\n",
    "group_2 = [16, 19, 20, 25]\n",
    "observed_diff = abs(np.mean(group_1) - np.mean(group_2))\n",
    "print(observed_diff)"
   ]
  },
  {
   "cell_type": "markdown",
   "metadata": {},
   "source": [
    "One way to answer the question is the following: Let's first combine the two groups, and then draw randomly 5 people and put them in group 1 and the other 4 in group 2.\n",
    "\n",
    "- How many ways are there to do this?\n",
    "- Write a program that creates a list where each element is such a mix. For example, the first element of the list could look like `[[22, 11, 17, 18, 25], [16, 19, 20, 21]]`. HINT: Use `itertools.combinations`."
   ]
  },
  {
   "cell_type": "code",
   "execution_count": 55,
   "metadata": {},
   "outputs": [
    {
     "name": "stdout",
     "output_type": "stream",
     "text": [
      "All [22, 11, 17, 18, 21, 16, 19, 20, 25]\n",
      "Group 1: [(22, 11, 17, 18, 21), (22, 11, 17, 18, 16), (22, 11, 17, 18, 19), (22, 11, 17, 18, 20), (22, 11, 17, 18, 25), (22, 11, 17, 21, 16), (22, 11, 17, 21, 19), (22, 11, 17, 21, 20), (22, 11, 17, 21, 25), (22, 11, 17, 16, 19), (22, 11, 17, 16, 20), (22, 11, 17, 16, 25), (22, 11, 17, 19, 20), (22, 11, 17, 19, 25), (22, 11, 17, 20, 25), (22, 11, 18, 21, 16), (22, 11, 18, 21, 19), (22, 11, 18, 21, 20), (22, 11, 18, 21, 25), (22, 11, 18, 16, 19), (22, 11, 18, 16, 20), (22, 11, 18, 16, 25), (22, 11, 18, 19, 20), (22, 11, 18, 19, 25), (22, 11, 18, 20, 25), (22, 11, 21, 16, 19), (22, 11, 21, 16, 20), (22, 11, 21, 16, 25), (22, 11, 21, 19, 20), (22, 11, 21, 19, 25), (22, 11, 21, 20, 25), (22, 11, 16, 19, 20), (22, 11, 16, 19, 25), (22, 11, 16, 20, 25), (22, 11, 19, 20, 25), (22, 17, 18, 21, 16), (22, 17, 18, 21, 19), (22, 17, 18, 21, 20), (22, 17, 18, 21, 25), (22, 17, 18, 16, 19), (22, 17, 18, 16, 20), (22, 17, 18, 16, 25), (22, 17, 18, 19, 20), (22, 17, 18, 19, 25), (22, 17, 18, 20, 25), (22, 17, 21, 16, 19), (22, 17, 21, 16, 20), (22, 17, 21, 16, 25), (22, 17, 21, 19, 20), (22, 17, 21, 19, 25), (22, 17, 21, 20, 25), (22, 17, 16, 19, 20), (22, 17, 16, 19, 25), (22, 17, 16, 20, 25), (22, 17, 19, 20, 25), (22, 18, 21, 16, 19), (22, 18, 21, 16, 20), (22, 18, 21, 16, 25), (22, 18, 21, 19, 20), (22, 18, 21, 19, 25), (22, 18, 21, 20, 25), (22, 18, 16, 19, 20), (22, 18, 16, 19, 25), (22, 18, 16, 20, 25), (22, 18, 19, 20, 25), (22, 21, 16, 19, 20), (22, 21, 16, 19, 25), (22, 21, 16, 20, 25), (22, 21, 19, 20, 25), (22, 16, 19, 20, 25), (11, 17, 18, 21, 16), (11, 17, 18, 21, 19), (11, 17, 18, 21, 20), (11, 17, 18, 21, 25), (11, 17, 18, 16, 19), (11, 17, 18, 16, 20), (11, 17, 18, 16, 25), (11, 17, 18, 19, 20), (11, 17, 18, 19, 25), (11, 17, 18, 20, 25), (11, 17, 21, 16, 19), (11, 17, 21, 16, 20), (11, 17, 21, 16, 25), (11, 17, 21, 19, 20), (11, 17, 21, 19, 25), (11, 17, 21, 20, 25), (11, 17, 16, 19, 20), (11, 17, 16, 19, 25), (11, 17, 16, 20, 25), (11, 17, 19, 20, 25), (11, 18, 21, 16, 19), (11, 18, 21, 16, 20), (11, 18, 21, 16, 25), (11, 18, 21, 19, 20), (11, 18, 21, 19, 25), (11, 18, 21, 20, 25), (11, 18, 16, 19, 20), (11, 18, 16, 19, 25), (11, 18, 16, 20, 25), (11, 18, 19, 20, 25), (11, 21, 16, 19, 20), (11, 21, 16, 19, 25), (11, 21, 16, 20, 25), (11, 21, 19, 20, 25), (11, 16, 19, 20, 25), (17, 18, 21, 16, 19), (17, 18, 21, 16, 20), (17, 18, 21, 16, 25), (17, 18, 21, 19, 20), (17, 18, 21, 19, 25), (17, 18, 21, 20, 25), (17, 18, 16, 19, 20), (17, 18, 16, 19, 25), (17, 18, 16, 20, 25), (17, 18, 19, 20, 25), (17, 21, 16, 19, 20), (17, 21, 16, 19, 25), (17, 21, 16, 20, 25), (17, 21, 19, 20, 25), (17, 16, 19, 20, 25), (18, 21, 16, 19, 20), (18, 21, 16, 19, 25), (18, 21, 16, 20, 25), (18, 21, 19, 20, 25), (18, 16, 19, 20, 25), (21, 16, 19, 20, 25)]\n",
      "[[16, 25, 19, 20], [25, 19, 20, 21], [16, 25, 20, 21], [16, 25, 19, 21], [16, 19, 20, 21], [25, 18, 19, 20], [16, 25, 18, 20], [16, 25, 18, 19], [16, 18, 19, 20], [25, 18, 20, 21], [25, 18, 19, 21], [18, 19, 20, 21], [16, 25, 18, 21], [16, 18, 20, 21], [16, 18, 19, 21], [17, 19, 20, 25], [16, 17, 20, 25], [16, 17, 19, 25], [16, 17, 19, 20], [17, 20, 21, 25], [17, 19, 21, 25], [17, 19, 20, 21], [16, 17, 21, 25], [16, 17, 20, 21], [16, 17, 19, 21], [17, 18, 20, 25], [17, 18, 19, 25], [17, 18, 19, 20], [16, 17, 18, 25], [16, 17, 18, 20], [16, 17, 18, 19], [17, 18, 21, 25], [17, 18, 20, 21], [17, 18, 19, 21], [16, 17, 18, 21], [19, 25, 11, 20], [16, 25, 11, 20], [16, 19, 11, 25], [16, 19, 11, 20], [25, 11, 20, 21], [19, 25, 11, 21], [19, 11, 20, 21], [16, 25, 11, 21], [16, 11, 20, 21], [16, 19, 11, 21], [25, 18, 11, 20], [19, 25, 18, 11], [19, 18, 11, 20], [16, 25, 18, 11], [16, 18, 11, 20], [16, 19, 18, 11], [25, 18, 11, 21], [18, 11, 20, 21], [19, 18, 11, 21], [16, 18, 11, 21], [17, 11, 20, 25], [19, 17, 11, 25], [19, 17, 11, 20], [16, 17, 11, 25], [16, 17, 11, 20], [16, 17, 11, 19], [17, 11, 21, 25], [17, 11, 20, 21], [19, 17, 11, 21], [16, 17, 11, 21], [17, 18, 11, 25], [17, 18, 11, 20], [19, 17, 18, 11], [16, 17, 18, 11], [17, 18, 11, 21], [25, 19, 20, 22], [16, 25, 20, 22], [16, 25, 19, 22], [16, 19, 20, 22], [25, 20, 21, 22], [25, 19, 21, 22], [19, 20, 21, 22], [16, 25, 21, 22], [16, 20, 21, 22], [16, 19, 21, 22], [25, 18, 20, 22], [25, 18, 19, 22], [18, 19, 20, 22], [16, 25, 18, 22], [16, 18, 20, 22], [16, 18, 19, 22], [25, 18, 21, 22], [18, 20, 21, 22], [18, 19, 21, 22], [16, 18, 21, 22], [17, 20, 22, 25], [17, 19, 22, 25], [17, 19, 20, 22], [16, 17, 22, 25], [16, 17, 20, 22], [16, 17, 19, 22], [17, 21, 22, 25], [17, 20, 21, 22], [17, 19, 21, 22], [16, 17, 21, 22], [17, 18, 22, 25], [17, 18, 20, 22], [17, 18, 19, 22], [16, 17, 18, 22], [17, 18, 21, 22], [25, 11, 20, 22], [19, 25, 11, 22], [19, 11, 20, 22], [16, 25, 11, 22], [16, 11, 20, 22], [16, 19, 11, 22], [25, 11, 21, 22], [11, 20, 21, 22], [19, 11, 21, 22], [16, 11, 21, 22], [25, 18, 11, 22], [18, 11, 20, 22], [19, 18, 11, 22], [16, 18, 11, 22], [18, 11, 21, 22], [17, 11, 22, 25], [17, 11, 20, 22], [19, 17, 11, 22], [16, 17, 11, 22], [17, 11, 21, 22], [17, 18, 11, 22]]\n"
     ]
    },
    {
     "data": {
      "text/plain": [
       "'\\nprint(\"Group 1\", group_1)\\nall_measurements = [items for items in all_measurements if items not in group_1]\\nprint(all_measurements)\\ngroup_2 = random.sample(all_measurements, 4)\\nprint(\"Group 2\", group_2)\\n'"
      ]
     },
     "execution_count": 55,
     "metadata": {},
     "output_type": "execute_result"
    }
   ],
   "source": [
    "import random\n",
    "\n",
    "all_measurements = group_1 + group_2\n",
    "print(\"All\",all_measurements)\n",
    "\n",
    "#group_1 = random.sample(all_measurements, 5)\n",
    "list_group1 = list(itertools.combinations(all_measurements, 5))\n",
    "print(\"Group 1:\", list_group1)\n",
    "\n",
    "list_group2 = []\n",
    "for each in list_group1: \n",
    "    new_group2 = list(set(all_measurements) - set(each))\n",
    "    list_group2.append(new_group2)\n",
    "print(list_group2)\n",
    "\n",
    "\"\"\"\n",
    "list_group2 = []\n",
    "for each in list_group1: \n",
    "    list_group2.append(all_measurements - each)\n",
    "\n",
    "print(list_group2)\n",
    "\"\"\"\n",
    "\n",
    "\"\"\"\n",
    "print(\"Group 1\", group_1)\n",
    "all_measurements = [items for items in all_measurements if items not in group_1]\n",
    "print(all_measurements)\n",
    "group_2 = random.sample(all_measurements, 4)\n",
    "print(\"Group 2\", group_2)\n",
    "\"\"\"\n",
    "\n"
   ]
  },
  {
   "cell_type": "markdown",
   "metadata": {},
   "source": [
    "- Calculate the difference of averages between the two groups for each element of the above list."
   ]
  },
  {
   "cell_type": "code",
   "execution_count": null,
   "metadata": {},
   "outputs": [],
   "source": [
    "## your code goes here"
   ]
  },
  {
   "cell_type": "markdown",
   "metadata": {},
   "source": [
    "- Finally, find what percentage of these differences are higher in absolute value than the observed difference we obtained above. We refer to this as a **p-value** (more on p-values in later lectures)."
   ]
  },
  {
   "cell_type": "code",
   "execution_count": null,
   "metadata": {},
   "outputs": [],
   "source": [
    "## your code goes here"
   ]
  },
  {
   "cell_type": "markdown",
   "metadata": {},
   "source": [
    "Your answer should look close to the answer below, where we use the `mlxtend` package to perform the same permutation test."
   ]
  },
  {
   "cell_type": "code",
   "execution_count": null,
   "metadata": {},
   "outputs": [],
   "source": [
    "from mlxtend.evaluate import permutation_test\n",
    "p_value = permutation_test(group_1, group_2, method = 'approximate', num_rounds = 10000, seed = 0)\n",
    "print(p_value)"
   ]
  },
  {
   "cell_type": "markdown",
   "metadata": {},
   "source": [
    "- What should be the conclusion?"
   ]
  },
  {
   "cell_type": "markdown",
   "metadata": {},
   "source": [
    "### End of exercise\n",
    "\n",
    "Now that you have learned a bit about counting and combinatorics, let's put this knowledge to use by computing some probabilities. "
   ]
  },
  {
   "attachments": {},
   "cell_type": "markdown",
   "metadata": {
    "colab_type": "text",
    "id": "fHgEByJr02In"
   },
   "source": [
    "## Probability for dice\n",
    "\n",
    "Let's start with some simple examples of computing probabilities for rolls of a pair of dice. Once we can use combinatorics to enumerate all possible states following a series of events, we can also compute probabilities of these events. \n",
    "\n",
    "Let's start by enumerating all of the possible end states from throwing two dice. We will assume that these dice are 'fair'.  In other words, there is an equal probability that any face of each dice will land pointing up. In terms of probability, we say that the distribution of scores for each dice follows a **uniform distribution**. Furthermore, we assume that the dice are identical and that the score for each dice is not dependent on the other dice. In the terminology of probability, we can now say that the score of each dice is **independent identically distributed**, or **iid**.\n",
    "\n",
    "The code in the cell below computes a table with all possible outcomes. Run this code and examine the results."
   ]
  },
  {
   "cell_type": "code",
   "execution_count": null,
   "metadata": {
    "colab": {
     "autoexec": {
      "startup": false,
      "wait_interval": 0
     },
     "base_uri": "https://localhost:8080/",
     "height": 665,
     "output_extras": [
      {
       "item_id": 1
      }
     ]
    },
    "colab_type": "code",
    "executionInfo": {
     "elapsed": 486,
     "status": "ok",
     "timestamp": 1512612543157,
     "user": {
      "displayName": "Drew Bryant",
      "photoUrl": "//lh4.googleusercontent.com/-bbwiO20N-0M/AAAAAAAAAAI/AAAAAAAAAJg/qqZ1Ilm078o/s50-c-k-no/photo.jpg",
      "userId": "111241008704641611320"
     },
     "user_tz": 480
    },
    "id": "0UGYCtZ0Mk-B",
    "outputId": "e097add8-afa9-472c-f70c-94dbd90e8209"
   },
   "outputs": [],
   "source": [
    "two_dice = list(itertools.product(range(1, 7), range(1, 7)))\n",
    "two_dice[:10]"
   ]
  },
  {
   "cell_type": "markdown",
   "metadata": {
    "colab_type": "text",
    "id": "MpxPKCpP02Iu"
   },
   "source": [
    "As a first step in computing the probabilities, we need to find how many ways we can get into each state. In the case of the dice, how many ways can we roll each score (sum of the numbers shown on the upper sides of the two dice)? The figure below shows an example of the number of ways we can roll a 7 or a 10.\n",
    "\n",
    "![Two dice sample space](../images/two-dice.jpg)"
   ]
  },
  {
   "cell_type": "markdown",
   "metadata": {
    "colab_type": "text",
    "id": "MpxPKCpP02Iu"
   },
   "source": [
    "### Exercise\n",
    "\n",
    "1. Store the result of throwing two dice into a `DataFrame` and compute two new columns: one called `roll_sum` which shows the total of the two throws, and one called `is_double` which is when the two numbers match."
   ]
  },
  {
   "cell_type": "code",
   "execution_count": null,
   "metadata": {
    "colab": {
     "autoexec": {
      "startup": false,
      "wait_interval": 0
     },
     "base_uri": "https://localhost:8080/",
     "height": 1165,
     "output_extras": [
      {
       "item_id": 1
      }
     ]
    },
    "colab_type": "code",
    "executionInfo": {
     "elapsed": 316,
     "status": "ok",
     "timestamp": 1512612544242,
     "user": {
      "displayName": "Drew Bryant",
      "photoUrl": "//lh4.googleusercontent.com/-bbwiO20N-0M/AAAAAAAAAAI/AAAAAAAAAJg/qqZ1Ilm078o/s50-c-k-no/photo.jpg",
      "userId": "111241008704641611320"
     },
     "user_tz": 480
    },
    "id": "Xqb0yZ79Mz0l",
    "outputId": "23a1fec4-e7c8-49be-827b-ac0ae4f20aa8"
   },
   "outputs": [],
   "source": [
    "two_dice = pd.DataFrame(itertools.product(range(1, 7), range(1, 7)), columns = ['one', 'two'])\n",
    "two_dice['roll_sum'] = two_dice['one'] + two_dice['two'] \n",
    "two_dice['is_double'] = (two_dice['one'] == two_dice['two'])\n",
    "two_dice.head()"
   ]
  },
  {
   "attachments": {},
   "cell_type": "markdown",
   "metadata": {
    "colab_type": "text",
    "id": "DaHeesg502Iy"
   },
   "source": [
    "2. Next, obtain counts for each unique value of `roll_sum`. Examine this table. Which score is the most likely, and  which scores are least likely?"
   ]
  },
  {
   "cell_type": "code",
   "execution_count": null,
   "metadata": {
    "colab": {
     "autoexec": {
      "startup": false,
      "wait_interval": 0
     },
     "base_uri": "https://localhost:8080/",
     "height": 233,
     "output_extras": [
      {
       "item_id": 1
      }
     ]
    },
    "colab_type": "code",
    "executionInfo": {
     "elapsed": 409,
     "status": "ok",
     "timestamp": 1512612621639,
     "user": {
      "displayName": "Drew Bryant",
      "photoUrl": "//lh4.googleusercontent.com/-bbwiO20N-0M/AAAAAAAAAAI/AAAAAAAAAJg/qqZ1Ilm078o/s50-c-k-no/photo.jpg",
      "userId": "111241008704641611320"
     },
     "user_tz": 480
    },
    "id": "Jqn20Eb3NceG",
    "outputId": "9e4a3650-31be-4a9f-cb75-355e63805e56"
   },
   "outputs": [],
   "source": [
    "two_dice.roll_sum.value_counts()"
   ]
  },
  {
   "attachments": {},
   "cell_type": "markdown",
   "metadata": {
    "colab_type": "text",
    "id": "2zwxuc8g02I3"
   },
   "source": [
    "3. Turn the above counts into probabilities (by dividing by the total). What you are looking at is an example of a **discrete distribution**, discrete because the number of choices are limited, and distribution because the numbers represent probabilities."
   ]
  },
  {
   "cell_type": "code",
   "execution_count": null,
   "metadata": {
    "colab": {
     "autoexec": {
      "startup": false,
      "wait_interval": 0
     },
     "base_uri": "https://localhost:8080/",
     "height": 233,
     "output_extras": [
      {
       "item_id": 1
      }
     ]
    },
    "colab_type": "code",
    "executionInfo": {
     "elapsed": 192,
     "status": "ok",
     "timestamp": 1512612715076,
     "user": {
      "displayName": "Drew Bryant",
      "photoUrl": "//lh4.googleusercontent.com/-bbwiO20N-0M/AAAAAAAAAAI/AAAAAAAAAJg/qqZ1Ilm078o/s50-c-k-no/photo.jpg",
      "userId": "111241008704641611320"
     },
     "user_tz": 480
    },
    "id": "GITsJCTYvjJ9",
    "outputId": "7ed1c10b-1f30-4159-e1ce-4c2c3cdd99d1"
   },
   "outputs": [],
   "source": [
    "two_dice['roll_sum'].value_counts(normalize = True)"
   ]
  },
  {
   "cell_type": "markdown",
   "metadata": {},
   "source": [
    "4. Now represent the distribution of `roll_sum` using a bar plot. HINT: Use `sns.countplot`."
   ]
  },
  {
   "cell_type": "code",
   "execution_count": null,
   "metadata": {
    "colab": {
     "autoexec": {
      "startup": false,
      "wait_interval": 0
     },
     "base_uri": "https://localhost:8080/",
     "height": 297,
     "output_extras": [
      {
       "item_id": 1
      },
      {
       "item_id": 2
      }
     ]
    },
    "colab_type": "code",
    "executionInfo": {
     "elapsed": 629,
     "status": "ok",
     "timestamp": 1512612738498,
     "user": {
      "displayName": "Drew Bryant",
      "photoUrl": "//lh4.googleusercontent.com/-bbwiO20N-0M/AAAAAAAAAAI/AAAAAAAAAJg/qqZ1Ilm078o/s50-c-k-no/photo.jpg",
      "userId": "111241008704641611320"
     },
     "user_tz": 480
    },
    "id": "jb2KEj3pvFKj",
    "outputId": "ab06d7fb-816c-478a-aff5-5de70b119244"
   },
   "outputs": [],
   "source": [
    "sns.countplot( x = two_dice['roll_sum'], color='blue')"
   ]
  },
  {
   "attachments": {},
   "cell_type": "markdown",
   "metadata": {
    "colab_type": "text",
    "id": "KjUm_KwP02I7"
   },
   "source": [
    "The plot would look the same whether we use the counts or the probabilities (but the scale of the y-axis would be different). In statistics, when the bar plot uses counts, we call it a **frequency plot** and when it uses probabilities we call it a **relative frequencies plot**.\n",
    "\n",
    "### End of exercise"
   ]
  },
  {
   "attachments": {},
   "cell_type": "markdown",
   "metadata": {},
   "source": [
    "Very often we do not have access to a dataset of all possible outcomes (sample space) that we can query to see how probable different outcomes are (or any set of outcomes, which we called an **event**). This can be because there are far too many outcomes to list them all or because such detailed data is simply not available. Even if we had this data, querying it every time we wanted to find the probability of some event is not a very efficient way to get the answer. Instead, we can find the probability associated with each outcome in the sample space once and save it for future reference. This is basically what a probability distribution is: a sort of lookup table that we refer to when we need to find the probability of some event."
   ]
  },
  {
   "attachments": {},
   "cell_type": "markdown",
   "metadata": {
    "colab_type": "text",
    "id": "hmxNZI-q02JA"
   },
   "source": [
    "## Basics of probability\n",
    "\n",
    "We will now investigate some basics of probability in a bit more detail.  \n",
    "\n",
    "A **discrete distribution** is a probability distribution describing a process with discrete outcomes. By discrete outcomes, we mean outcomes that have specific states which we can count. We have already investigated an example of a discrete process when we examined the outcome of dice throws. Each dice lands with a certain side up and the sum of the two numbers is the total score. \n",
    "\n",
    "For a discrete distribution, the probability of an event, A, is the number of ways A can occur, divided by the number of total possible outcomes in our **sample space**, S. Let's make this concrete with an example. In the figure below there are 10 events in S, 6 in set A, and 4 in set B.\n",
    "\n",
    "![Sample space](../images/sample-space.jpg)\n",
    "\n",
    "The probability of the events in a subset, A, given a set of possible events in the sample space, S, can be computed as follows:\n",
    "\n",
    "$$P(A) = \\frac{N(A)}{N(S)}$$\n",
    "\n",
    "In this case there are 10 events in S, 6 events in subset A, and 4 in subset B. We can compute the probabilities of A and B like this:\n",
    "\n",
    "$$P(A) = \\frac{6}{10} = \\frac{3}{5} = 0.6$$\n",
    "$$P(B) = \\frac{4}{10} = \\frac{2}{5} = 0.4$$\n",
    "\n",
    "As you can see, we are treating events as mathematical sets and applying set operations to define the **intersection** $P(A \\cap B) = \\frac{2}{10}$ and **union** $P(A \\cup B) = \\frac{8}{10}$ of two events $A$ and $B$, as well as the **negation** of event $A$: $P(A') = 1 - P(A) = \\frac{4}{10}$.\n",
    "\n",
    "You can use these basic operations to create more complex operations. For example:\n",
    "\n",
    "$$P((A \\cup B)') = P(A' \\cap B') = P(C) = \\frac{2}{10} = 0.2$$\n",
    "\n",
    "In general, for any two events $A$ and $B$ we have:\n",
    "\n",
    "$$P(A \\cup B) = P(A) + P(B) - P(A \\cap B)$$\n",
    "\n",
    "where $P(A \\cap B) = 0$ if the two events are **mutually exclusive**, i.e. they can't happen at the same time."
   ]
  },
  {
   "cell_type": "markdown",
   "metadata": {
    "colab_type": "text",
    "id": "-53gnN1702Jh"
   },
   "source": [
    "As a side note, an alternative to expressing events in terms of probability is using **odds**, which are the ratio of the number of ways an event can occur to the number of ways it can not occur. Sometimes we say that **odds** are the count of events in favor of an event vs. the count against the event.\n",
    "\n",
    "For example, if you flip a fair coin the odds of getting heads are $1:1$ (1 in 1). Since there are only two possible equally likely outcomes in the coin flip, we say the odds of the outcome are even. As another example, if you roll a single fair dice your odds of rolling a 6 are $1:5$ (1 in 5)."
   ]
  },
  {
   "cell_type": "markdown",
   "metadata": {},
   "source": [
    "### Exercise\n",
    "\n",
    "Return to the data set of a roll of two dice. "
   ]
  },
  {
   "cell_type": "code",
   "execution_count": null,
   "metadata": {},
   "outputs": [],
   "source": [
    "two_dice = list(itertools.product(range(1, 7), range(1, 7)))\n",
    "two_dice = pd.DataFrame(two_dice, columns = ['one', 'two'])\n",
    "two_dice['roll_sum'] = two_dice.apply(sum, axis = 1)\n",
    "two_dice.head()"
   ]
  },
  {
   "cell_type": "markdown",
   "metadata": {},
   "source": [
    "Let $A$ be the event that the score (`roll_sum`) is less than or equal to 3.  \n",
    "Let $B$ be the event that the score (`roll_sum`) is even.  \n",
    "Let $C$ be the event that the score (`roll_sum`) is greater than 10.\n",
    "\n",
    "1. Find $P(A)$. HINT: Using `value_counts` with `normalize = True` is one way to do it, but there are other ways too."
   ]
  },
  {
   "cell_type": "code",
   "execution_count": null,
   "metadata": {},
   "outputs": [],
   "source": [
    "prob_all = two_dice['roll_sum'].value_counts(normalize = True).to_dict()\n",
    "prob_all = pd.DataFrame(prob_all.items(), columns=['S', 'prob'])\n",
    "prob_A = prob_all.query('s <=3')['prob'].sum()\n",
    "print(prob_A)"
   ]
  },
  {
   "cell_type": "markdown",
   "metadata": {},
   "source": [
    "2. Find the probability of $A$ or $C$, in other words $P(A \\cup C)$. Are the two events mutually exclusive?"
   ]
  },
  {
   "cell_type": "code",
   "execution_count": null,
   "metadata": {},
   "outputs": [],
   "source": [
    "prob_A_or_C = prob_all.query('S <=4 or S > 10')['prob'].sum()\n",
    "print(prob_A_or_C)\n",
    "\n",
    "#because A and C are mutually exclusive, we can also use P(A or C) = P(A) + P(C)\n",
    "prob_C = prob_all.query('S > 10')['prob'].sum()\n",
    "print(prob_A + prob_C)"
   ]
  },
  {
   "cell_type": "markdown",
   "metadata": {},
   "source": [
    "3. Find the probability of $A$ or $B$, in other words $P(A \\cup B)$. Are the two events mutually exclusive? HINT: Use the modulo operator `%`."
   ]
  },
  {
   "cell_type": "code",
   "execution_count": null,
   "metadata": {},
   "outputs": [],
   "source": [
    "prob_A_or_B = prob_all.query('S <= 3 or S % 2 == 0')['prob'].sum()\n",
    "print(prob_A_or_B)"
   ]
  },
  {
   "cell_type": "markdown",
   "metadata": {},
   "source": [
    "4. Confirm that $P(A \\cup B) = P(A) + P(B) - P(A \\cap B)$."
   ]
  },
  {
   "cell_type": "code",
   "execution_count": null,
   "metadata": {},
   "outputs": [],
   "source": [
    "## your code goes here"
   ]
  },
  {
   "cell_type": "markdown",
   "metadata": {},
   "source": [
    "### End of exercise"
   ]
  },
  {
   "cell_type": "markdown",
   "metadata": {
    "colab_type": "text",
    "id": "fLnBjPhb02JV"
   },
   "source": [
    "## Conditional probability\n",
    "\n",
    "**Conditional probability** is the probability that event A occurs **given that** (or conditioned on the fact that) event B has occurred. We can write conditional probability as follow, which we say is the probability of A given B:\n",
    "\n",
    "$$P(A|B)$$\n",
    "\n",
    "We can work out this conditional probability as follows:\n",
    "\n",
    "$$P(A|B) = \\frac{P(A \\cap B)}{P(B)} = \\frac{\\frac{2}{10}}{\\frac{4}{10}} = \\frac{2}{4} = \\frac{1}{2}$$\n",
    "\n",
    "If event A is **independent** of B, then $P(A|B) = P(A)$ which implies that $P(A \\cap B) = P(A)P(B)$.\n",
    "\n",
    "And with a little bit of algebra it can be shown that independence is a symmetric relationship, meaning that $P(A|B) = P(A)$ implies $P(B|A) = P(B)$ and vice versa.\n",
    "\n",
    "It's important to distinguish between **mutually exclusive events and independent events**: mutually exclusive events are events that cannot happen together, so $P(A \\cap B) = \\emptyset$ (the empty set), whereas independent events are events that cannot influence each other, so information about one doesn't affect what we know about the other, so we can write $P(A \\cap B) = P(A)P(B)$."
   ]
  },
  {
   "cell_type": "markdown",
   "metadata": {},
   "source": [
    "### Exercise\n",
    "\n",
    "Many probability questions require careful attention to the way it is phrased in order to get it right. Here's an example:\n",
    "\n",
    "- A family has two children, one of which is a girl. What is the probability that the other child is a boy?\n",
    "- A family has two children and the first one is a girl. What is the probability that the other child is a boy?\n",
    "\n",
    "As you can see, slight variations in the way the problem is phrased can change the results. It's also important to try and state the assumptions made by the problem, and challenge them if they seem loose.\n",
    "\n",
    "These problems can be extended to other variants, some of which are [quite counter-intuitive](https://en.wikipedia.org/wiki/Boy_or_Girl_paradox).\n",
    "\n",
    "Of the conditions stated here, specify which ones implies $A$ and $B$ are independent events and which ones imply that they are mutually exclusive.\n",
    "\n",
    "1. $P(A \\cup B) = P(A)+P(B)$\n",
    "1. $P(A \\cup B) = P(A)+P(B)-P(A)P(B)$\n",
    "1. $P(A \\mid B) = 0$\n",
    "1. $P(A \\mid \\neg B) = P(A)$\n",
    "\n",
    "### End of exercise"
   ]
  },
  {
   "attachments": {},
   "cell_type": "markdown",
   "metadata": {
    "colab_type": "text",
    "id": "O4s6Chwg02JX"
   },
   "source": [
    "Let's try an example of using conditional probabilities to work out the chance of having a rare disease. The scenario is as follows:\n",
    "\n",
    "1. Sickle cell anemia is a serious, but fairly rare disease.\n",
    " - Let $S$ be the event that a patient has the disease, and let $P(S) = \\frac{1}{3200} = 0.0003125$.\n",
    " - Let the plus sign ($+$) be the event that a patient tests positive and the minus sign ($-$) that they test negative.\n",
    "2. A medical company claims that its test is 99% accurate on people with and without the disease, i.e. $P(+ | S) = 0.99$ and $P(- | S') = 0.99$. These numbers are called **sensitivity** and **specificity** in the medical field.\n",
    "  \n",
    "On the surface, it seems that a 99% reliable test should be rather good. But, let's dig into the conditional probabilities and see how things really work out. \n",
    "\n",
    "The figure below shows a **conditional probability tree** for this problem. We will represent it both as a tree, and (in case you prefer the second visual) as a rectangle with colored areas to show the conditions, and if the whole rectangle is assumed to have an area of 1, then each box within it has an area equal to the joint probability. If on the other hand we want to consider the left and right sides separately as having areas of 1, then each box has an area equal to the conditional probabilities.\n",
    "\n",
    "![Conditional probability](../images/probability-tree-vs-box.jpg)\n",
    "\n",
    "If you follow the tree from the root you can visualize the computation of probabilities for each of the 4 possible outcomes of a test on a patient. Let's summarize the conditional probabilities we need to compute for these outcomes:\n",
    "\n",
    "- $P(\\oplus | S)$ is the conditional probability the test will correctly identify a patient with the disease. \n",
    "- $P(- | S)$; is the conditional probability of a negative test for a patient with the disease. We call this situation a **Type II Error** or **False Negative**.\n",
    "-  $P(\\oplus | S')$ is the conditional probability a patient with no disease will test positive. We call this situation a **Type I Error** or **False Positive**.\n",
    "- $P(- | S')$; is the conditional probability of a negative test for a patient who does not have the disease.\n",
    "\n",
    "Let's start with the easy cases. We know the probability of a patient having the disease and we know the accuracy of the test. In the code cell below, create and execute the code to compute the conditional probabilities of a positive test given the patient has the disease, and a negative test given the patient does not have the disease. "
   ]
  },
  {
   "cell_type": "code",
   "execution_count": null,
   "metadata": {
    "colab": {
     "autoexec": {
      "startup": false,
      "wait_interval": 0
     },
     "base_uri": "https://localhost:8080/",
     "height": 35,
     "output_extras": [
      {
       "item_id": 1
      }
     ]
    },
    "colab_type": "code",
    "executionInfo": {
     "elapsed": 693,
     "status": "ok",
     "timestamp": 1512613559610,
     "user": {
      "displayName": "Drew Bryant",
      "photoUrl": "//lh4.googleusercontent.com/-bbwiO20N-0M/AAAAAAAAAAI/AAAAAAAAAJg/qqZ1Ilm078o/s50-c-k-no/photo.jpg",
      "userId": "111241008704641611320"
     },
     "user_tz": 480
    },
    "id": "GzfXzy_702JY",
    "outputId": "5987cbb5-b23a-4d34-a932-882606fa8bb2"
   },
   "outputs": [],
   "source": [
    "prob_has_disease = 0.0003125\n",
    "prob_no_disease = 1 - prob_has_disease\n",
    "prob_test_correct = 0.99\n",
    "prob_test_incorrect = 1 - prob_test_correct\n",
    "prob_true_positive = prob_has_disease * prob_test_correct\n",
    "prob_true_negative = prob_no_disease * prob_test_correct\n",
    "(prob_true_positive, prob_true_negative)"
   ]
  },
  {
   "cell_type": "markdown",
   "metadata": {
    "colab_type": "text",
    "id": "YkCUKr7Y02Ja"
   },
   "source": [
    "So far, so good. Next, let's compute the conditional probabilities for the cases where our test is in error. In the code cell below, create and execute the code to compute the conditional probabilities of a negative test given that the patient has the disease, and a positive test given that the patient does not have the disease. Compare these results to the conditional probabilities you computed above. "
   ]
  },
  {
   "cell_type": "code",
   "execution_count": null,
   "metadata": {
    "colab": {
     "autoexec": {
      "startup": false,
      "wait_interval": 0
     },
     "base_uri": "https://localhost:8080/",
     "height": 35,
     "output_extras": [
      {
       "item_id": 1
      }
     ]
    },
    "colab_type": "code",
    "executionInfo": {
     "elapsed": 326,
     "status": "ok",
     "timestamp": 1512613570688,
     "user": {
      "displayName": "Drew Bryant",
      "photoUrl": "//lh4.googleusercontent.com/-bbwiO20N-0M/AAAAAAAAAAI/AAAAAAAAAJg/qqZ1Ilm078o/s50-c-k-no/photo.jpg",
      "userId": "111241008704641611320"
     },
     "user_tz": 480
    },
    "id": "tT3vpTABy1pT",
    "outputId": "e927f1ea-6f6a-4244-8fac-e27282419105"
   },
   "outputs": [],
   "source": [
    "prob_false_negative = prob_test_incorrect * prob_has_disease\n",
    "prob_false_positive = prob_test_incorrect * prob_no_disease\n",
    "(prob_false_negative, prob_false_positive)"
   ]
  },
  {
   "cell_type": "markdown",
   "metadata": {
    "colab_type": "text",
    "id": "AS6_HAbX02Je"
   },
   "source": [
    "Given these results, do you think this test is actually useful? Why?\n",
    "\n",
    "Let's do one final check. In the cell below, create and execute the code to compute the sum of the probabilities of all the possible outcomes. Does the sum equal 1.0? "
   ]
  },
  {
   "cell_type": "code",
   "execution_count": null,
   "metadata": {
    "colab": {
     "autoexec": {
      "startup": false,
      "wait_interval": 0
     },
     "base_uri": "https://localhost:8080/",
     "height": 35,
     "output_extras": [
      {
       "item_id": 1
      }
     ]
    },
    "colab_type": "code",
    "executionInfo": {
     "elapsed": 793,
     "status": "ok",
     "timestamp": 1512613580534,
     "user": {
      "displayName": "Drew Bryant",
      "photoUrl": "//lh4.googleusercontent.com/-bbwiO20N-0M/AAAAAAAAAAI/AAAAAAAAAJg/qqZ1Ilm078o/s50-c-k-no/photo.jpg",
      "userId": "111241008704641611320"
     },
     "user_tz": 480
    },
    "id": "NMxoDbt202Jf",
    "outputId": "617c9b80-a2e3-4fb3-b619-bd9a17e44a94"
   },
   "outputs": [],
   "source": [
    "prob_true_positive + prob_true_negative + prob_false_positive + prob_false_negative"
   ]
  },
  {
   "cell_type": "markdown",
   "metadata": {},
   "source": [
    "### Exercise\n",
    "\n",
    "Let's return to our dataset of two dice throws."
   ]
  },
  {
   "cell_type": "code",
   "execution_count": null,
   "metadata": {},
   "outputs": [],
   "source": [
    "two_dice = list(itertools.product(range(1, 7), range(1, 7)))\n",
    "two_dice = pd.DataFrame(two_dice, columns = ['one', 'two'])\n",
    "two_dice.head()"
   ]
  },
  {
   "cell_type": "markdown",
   "metadata": {},
   "source": [
    "Let $E_1$ be the event that the first die shows an even number.  \n",
    "Let $E_2$ be the event that the second die shows an even number.  "
   ]
  },
  {
   "cell_type": "markdown",
   "metadata": {},
   "source": [
    "1. Find the probability that the first die shows an even number and the second die shows an even number, in other words $P(E_1 \\cap E_2)$."
   ]
  },
  {
   "cell_type": "code",
   "execution_count": null,
   "metadata": {},
   "outputs": [],
   "source": [
    "two_dice['one_even'] = two_dice['one'] %2 == 0\n",
    "two_dice['two_even'] = two_dice['two'] %2 == 0 \n",
    "\n",
    "prob_E1 = two_dice['one_even'].value_counts(normalize = True)[True]\n",
    "prob_E2 = two_dice['two_even'].value_counts(normalize = True)[True]\n",
    "prob_E1_and_E2 = (two_dice['one_even'] & two_dice['two_even']).value_counts(normalize = True)[True] \n",
    "\n",
    "print(prob_E1_and_E2)"
   ]
  },
  {
   "cell_type": "markdown",
   "metadata": {},
   "source": [
    "2. Find the probability that the second die shows an even number, given that the first die shows an even number, in other words $P(E_2 | E_1)$."
   ]
  },
  {
   "cell_type": "code",
   "execution_count": null,
   "metadata": {},
   "outputs": [],
   "source": [
    "prob_E2_given_E1 = prob_E1_and_E2 / prob_E1\n",
    "print(prob_E2_given_E1)"
   ]
  },
  {
   "cell_type": "markdown",
   "metadata": {},
   "source": [
    "3. Show that the $E_1$ and $E_2$ are independent events, in other words show that $P(E_1 \\cap E_2) = P(E_1) P(E_2)$."
   ]
  },
  {
   "cell_type": "code",
   "execution_count": null,
   "metadata": {},
   "outputs": [],
   "source": [
    "print(prob_E1*prob_E1)\n",
    "\n"
   ]
  },
  {
   "cell_type": "markdown",
   "metadata": {},
   "source": [
    "### End of exercise"
   ]
  },
  {
   "attachments": {},
   "cell_type": "markdown",
   "metadata": {},
   "source": [
    "# Assignment\n",
    "\n",
    "The Monty Hall problem we learned in class shows the importance of working out the math correctly and not letting \"intuition\" lead us down the wrong path when dealing with probabilities. Make sure to review it again because it will help with this assignment too. In this assignment, we learn about another such example. At first blush, the answer may seem obvious, but your job is to show the right answer using the rules of probability we learned in the lecture.\n",
    "\n",
    "Here are two similar-sounding questions with a subtle difference between them. As you will see, the subtle difference enough to make the problems and their solutions challenging and interesting:\n",
    "\n",
    "1. In families with 2 daughters, what's the probability that at least one daughter is born on a Thursday? <span style=\"color:red\" float:right>[10 point]</span>"
   ]
  },
  {
   "attachments": {},
   "cell_type": "markdown",
   "metadata": {},
   "source": [
    "Answer: \n",
    "Since there are 7 days in a week, then a daughter has a probability 1/7 chance to be born on a Thursday. \n",
    "\n",
    "But since there are 2 daughters, there's a total of 7*7 different possibilities, or 49. \n",
    "\n",
    "There's 7 options of duaghter 1 being born on a Thursday, and duaghter 2 on any other day. \n",
    "\n",
    "There's 6 options for daughter 2 being born on a thursday, and daughter 1 on any other day but thursday. (since thurs-thurs was already counted in the first option.)\n",
    "\n",
    "So, there is a probability of (7+6)/49 = 13/49 = about 0.265\n",
    "\n",
    "(Here, you can have repetition.)\n",
    "\n",
    "(These are also independent events, not mutually exclusive.)\n",
    "\n",
    "Error: My OG mistake, found through the script below to check my answer. \n",
    "\n",
    "But, since there are 2 daughters, you have 2 chances so (1/7 + 1/7). \n",
    "\n",
    "In total, you have a 2/7 probability of having any single daughter born on a Thursday. \n",
    "\n",
    "This mistake is wrong because it double-counts a possibility, of when both daughters could be born on a Thursday. The addition rule is when events are mutually exclusive, which is incorrect. These can happen at the same time. \n",
    "\n",
    "I would need to do P = P(A) + P(B) - P(A n B) or P = (1/7) + (1/7) - (1/49) "
   ]
  },
  {
   "cell_type": "code",
   "execution_count": 93,
   "metadata": {},
   "outputs": [
    {
     "name": "stdout",
     "output_type": "stream",
     "text": [
      "   first_daughter second_daughter  Born_Thurs\n",
      "0             Sun             Sun       False\n",
      "1             Sun             Mon       False\n",
      "2             Sun            Tues       False\n",
      "3             Sun             Wed       False\n",
      "4             Sun           Thurs        True\n",
      "5             Sun             Fri       False\n",
      "6             Sun             Sat       False\n",
      "7             Mon             Sun       False\n",
      "8             Mon             Mon       False\n",
      "9             Mon            Tues       False\n",
      "10            Mon             Wed       False\n",
      "11            Mon           Thurs        True\n",
      "12            Mon             Fri       False\n",
      "13            Mon             Sat       False\n",
      "The probability of  having at least one daughter named Leila is 0.2653061224489796\n"
     ]
    }
   ],
   "source": [
    "days = ['Sun', 'Mon', 'Tues', 'Wed', 'Thurs', 'Fri', 'Sat'] #Let us pretend that Leila = A\n",
    "\n",
    "all_days = list(itertools.product(days, repeat = 2)) #let us iterate over all possibilities for the kids\n",
    "days_df = pd.DataFrame(data = all_days, columns=['first_daughter', 'second_daughter'])\n",
    "days_df['Born_Thurs'] = (days_df['first_daughter'] == 'Thurs') | (days_df['second_daughter'] == 'Thurs')\n",
    "print(days_df.head(14))\n",
    "print(\"The probability of  having at least one daughter named Leila is\", len(days_df[days_df['Born_Thurs'] == True])/len(days_df['Born_Thurs']))"
   ]
  },
  {
   "attachments": {},
   "cell_type": "markdown",
   "metadata": {},
   "source": [
    "2. In families with 2 daughters, what's the probability that at least one daughter is named Leila? Let's assume that Leila is one of the seven possible names for a girl, that each girl name is equally likely to be selected by the family if allowed, and that two girls from the same family can't have the same name. <span style=\"color:red\" float:right>[15 point]</span>"
   ]
  },
  {
   "attachments": {},
   "cell_type": "markdown",
   "metadata": {},
   "source": [
    "Answer: (Here, because the girls can't have the same name, there is NO repetition allowed.)\n",
    "\n",
    "Because Leila is one of seven possible names, theoretically the first and second girl has a (1/7) chance, similar to problem 1. \n",
    "\n",
    "But because there are no repeats, we have to remove some possibilities. \n",
    "\n",
    "First: 1, 2, 3, 4, 5, 6, 7\n",
    "Second: 1, 2, 3, 4, 5, 6, 7. \n",
    "\n",
    "There's a total of 42 different combinations since the first girl has 7 name options and the second has 6 name options; multipling those, we get the total of 42 different combinations. \n",
    "\n",
    "There are 12 permutations of at least 1 duaghter being named Leila since there are 6 combos of duaghter 1 having Leila and duaghter 2 not having it, then 6 combos of daughter 2 having Leila and daughter 1 not having it. \n",
    "\n",
    "So the probabability is 12/42 or 6/21. \n",
    "\n",
    "Note: We can also find the number of total permutations with the no repetition, no replacement formula: \n",
    "\n",
    "P = 7!/(7 - 2)! = 5040 / 120 = 42\n"
   ]
  },
  {
   "cell_type": "code",
   "execution_count": 81,
   "metadata": {},
   "outputs": [
    {
     "name": "stdout",
     "output_type": "stream",
     "text": [
      "   first_daughter second_daughter  Named_A\n",
      "0               A               B     True\n",
      "1               A               C     True\n",
      "2               A               D     True\n",
      "3               A               E     True\n",
      "4               A               F     True\n",
      "5               A               G     True\n",
      "6               B               A     True\n",
      "7               B               C    False\n",
      "8               B               D    False\n",
      "9               B               E    False\n",
      "10              B               F    False\n",
      "11              B               G    False\n",
      "12              C               A     True\n",
      "13              C               B    False\n",
      "The probability of  having at least one daughter named Leila is 0.2857142857142857\n"
     ]
    }
   ],
   "source": [
    "names = ['A', 'B', 'C', 'D', 'E', 'F', 'G'] #Let us pretend that Leila = A\n",
    "\n",
    "all_names = list(itertools.permutations(names, 2)) #let us iterate over all possibilities for the kids\n",
    "names_df = pd.DataFrame(data = all_names, columns=['first_daughter', 'second_daughter'])\n",
    "names_df['Named_A'] = (names_df['first_daughter'] == 'A') | (names_df['second_daughter'] == 'A')\n",
    "print(names_df.head(14))\n",
    "print(\"The probability of  having at least one daughter named Leila is\", len(names_df[names_df['Named_A'] == True])/len(names_df['Named_A']))"
   ]
  },
  {
   "attachments": {},
   "cell_type": "markdown",
   "metadata": {},
   "source": [
    "The reason in (2) that we restrict the number of girl's names to 7 is so that we can compare the answer we get in (2) to the answer we get in (1). With this assumption, the two questions are very similar: 1 out of every 7 girls is born on a Thursday, and 1 out of every 7 girls is named Leila. The difference of course is that you can have two or more daughters born on a Thursday, but you can only name one of your daughters Leila. So this subtle distinction should play out in your solution. Note that you do not need to write code for this assignment. The solution can be worked out by hand."
   ]
  },
  {
   "cell_type": "markdown",
   "metadata": {},
   "source": [
    "Here are some other probability problems that have generated debates and helped us better understand the nature of probability and randomness:\n",
    "\n",
    "- [Boy and girl paradox](https://en.wikipedia.org/wiki/Boy_or_Girl_paradox)\n",
    "- [Bertrand paradox](https://en.wikipedia.org/wiki/Bertrand_paradox_(probability))\n",
    "- [The birthday problem](https://en.wikipedia.org/wiki/Birthday_problem)\n",
    "- [The two envelope problem](https://en.wikipedia.org/wiki/Two_envelopes_problem)\n",
    "- [St. Petersburg paradox](https://en.wikipedia.org/wiki/St._Petersburg_paradox) (a more complex example)\n",
    "\n",
    "# End of assignment"
   ]
  }
 ],
 "metadata": {
  "colab": {
   "collapsed_sections": [],
   "default_view": {},
   "name": "IntroToProbability.ipynb",
   "provenance": [],
   "version": "0.3.2",
   "views": {}
  },
  "kernelspec": {
   "display_name": "Python 3 (ipykernel)",
   "language": "python",
   "name": "python3"
  },
  "language_info": {
   "codemirror_mode": {
    "name": "ipython",
    "version": 3
   },
   "file_extension": ".py",
   "mimetype": "text/x-python",
   "name": "python",
   "nbconvert_exporter": "python",
   "pygments_lexer": "ipython3",
   "version": "3.12.4"
  },
  "toc": {
   "base_numbering": 1,
   "nav_menu": {},
   "number_sections": true,
   "sideBar": true,
   "skip_h1_title": false,
   "title_cell": "Table of Contents",
   "title_sidebar": "Contents",
   "toc_cell": false,
   "toc_position": {},
   "toc_section_display": true,
   "toc_window_display": true
  },
  "vscode": {
   "interpreter": {
    "hash": "9cd5b1060645c161064a32399f3815b62036dca35fd6bfa9efb7b0f1d11b6ced"
   }
  }
 },
 "nbformat": 4,
 "nbformat_minor": 4
}
